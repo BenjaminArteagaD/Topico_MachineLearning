{
 "cells": [
  {
   "cell_type": "code",
   "execution_count": 1,
   "id": "a43b0843",
   "metadata": {},
   "outputs": [
    {
     "name": "stderr",
     "output_type": "stream",
     "text": [
      "2024-06-26 12:21:33.837068: I tensorflow/core/util/port.cc:113] oneDNN custom operations are on. You may see slightly different numerical results due to floating-point round-off errors from different computation orders. To turn them off, set the environment variable `TF_ENABLE_ONEDNN_OPTS=0`.\n",
      "2024-06-26 12:21:33.979457: E external/local_xla/xla/stream_executor/cuda/cuda_dnn.cc:9261] Unable to register cuDNN factory: Attempting to register factory for plugin cuDNN when one has already been registered\n",
      "2024-06-26 12:21:33.979499: E external/local_xla/xla/stream_executor/cuda/cuda_fft.cc:607] Unable to register cuFFT factory: Attempting to register factory for plugin cuFFT when one has already been registered\n",
      "2024-06-26 12:21:33.980550: E external/local_xla/xla/stream_executor/cuda/cuda_blas.cc:1515] Unable to register cuBLAS factory: Attempting to register factory for plugin cuBLAS when one has already been registered\n",
      "2024-06-26 12:21:33.988131: I tensorflow/core/platform/cpu_feature_guard.cc:182] This TensorFlow binary is optimized to use available CPU instructions in performance-critical operations.\n",
      "To enable the following instructions: AVX2 AVX_VNNI FMA, in other operations, rebuild TensorFlow with the appropriate compiler flags.\n",
      "2024-06-26 12:21:35.143968: W tensorflow/compiler/tf2tensorrt/utils/py_utils.cc:38] TF-TRT Warning: Could not find TensorRT\n"
     ]
    }
   ],
   "source": [
    "import tensorflow as tf\n",
    "import numpy as np"
   ]
  },
  {
   "cell_type": "code",
   "execution_count": 2,
   "id": "ebecee8f",
   "metadata": {},
   "outputs": [],
   "source": [
    "# Valores de Porcentaje\n",
    "pctje= np.array([3.21, 3.27, 3.34, 3.42, 3.52, 3.64, 3.64, 4.02, 4.34, 4.82, 5.5, 6.32, 7.19, 8.09, 9.01, 9.94, 10.89, 11.85, 12.83, 13.81, 14.81, 15.82, 16.85, 17.88, 18.92, 19.97, 21, 22, 23.2, 24.2, 25.2, 26.4, 27.4, 28.6, 29.6, 30.8, 31.8, 32.8, 34, 35, 36, 37.2, 38.2, 39.2, 40.2, 41.2, 42.2, 43.2, 44.2, 45.2, 46.2, 47.2, 48.2, 49, 50, 51, 51.8, 52.6, 53.6, 54.4, 55.2, 56, 56.8, 57.6, 58.4, 59.2, 60, 60.8, 61.4, 62.2, 62.8, 63.4, 64.2, 64.8, 65.4, 66, 66.6, 67.2, 67.8, 68.4, 69, 69.6, 70, 70.6, 71, 71.6, 72, 72.6, 73, 73.4, 73.8, 74.2, 74.6, 75, 75.4, 75.8, 76.2, 76.6, 77, 77.2, 77.6, 78, 78.2, 78.6, 78.8, 79.2], dtype=float)\n",
    "\n",
    "# Valores de Celsius\n",
    "cels = np.array([-20, -19, -18, -17, -16, -15, -14, -13, -12, -11, -10, -9, -8, -7, -6, -5, -4, -3, -2, -1, 0, 1, 2, 3, 4, 5, 6, 7, 8, 9, 10, 11, 12, 13, 14, 15, 16, 17, 18, 19, 20, 21, 22, 23, 24, 25, 26, 27, 28, 29, 30, 31, 32, 33, 34, 35, 36, 37, 38, 39, 40, 41, 42, 43, 44, 45, 46, 47, 48, 49, 50, 51, 52, 53, 54, 55, 56, 57, 58, 59, 60, 61, 62, 63, 64, 65, 66, 67, 68, 69, 70, 71, 72, 73, 74, 75, 76, 77, 78, 79, 80, 81, 82, 83, 84,85], dtype=float)\n"
   ]
  },
  {
   "cell_type": "code",
   "execution_count": 3,
   "id": "b7072cb2",
   "metadata": {},
   "outputs": [
    {
     "name": "stderr",
     "output_type": "stream",
     "text": [
      "2024-06-26 12:21:54.554447: I external/local_xla/xla/stream_executor/cuda/cuda_executor.cc:887] could not open file to read NUMA node: /sys/bus/pci/devices/0000:02:00.0/numa_node\n",
      "Your kernel may have been built without NUMA support.\n",
      "2024-06-26 12:21:54.603892: I external/local_xla/xla/stream_executor/cuda/cuda_executor.cc:887] could not open file to read NUMA node: /sys/bus/pci/devices/0000:02:00.0/numa_node\n",
      "Your kernel may have been built without NUMA support.\n",
      "2024-06-26 12:21:54.603960: I external/local_xla/xla/stream_executor/cuda/cuda_executor.cc:887] could not open file to read NUMA node: /sys/bus/pci/devices/0000:02:00.0/numa_node\n",
      "Your kernel may have been built without NUMA support.\n",
      "2024-06-26 12:21:54.611412: I external/local_xla/xla/stream_executor/cuda/cuda_executor.cc:887] could not open file to read NUMA node: /sys/bus/pci/devices/0000:02:00.0/numa_node\n",
      "Your kernel may have been built without NUMA support.\n",
      "2024-06-26 12:21:54.611558: I external/local_xla/xla/stream_executor/cuda/cuda_executor.cc:887] could not open file to read NUMA node: /sys/bus/pci/devices/0000:02:00.0/numa_node\n",
      "Your kernel may have been built without NUMA support.\n",
      "2024-06-26 12:21:54.611589: I external/local_xla/xla/stream_executor/cuda/cuda_executor.cc:887] could not open file to read NUMA node: /sys/bus/pci/devices/0000:02:00.0/numa_node\n",
      "Your kernel may have been built without NUMA support.\n",
      "2024-06-26 12:21:55.014774: I external/local_xla/xla/stream_executor/cuda/cuda_executor.cc:887] could not open file to read NUMA node: /sys/bus/pci/devices/0000:02:00.0/numa_node\n",
      "Your kernel may have been built without NUMA support.\n",
      "2024-06-26 12:21:55.014929: I external/local_xla/xla/stream_executor/cuda/cuda_executor.cc:887] could not open file to read NUMA node: /sys/bus/pci/devices/0000:02:00.0/numa_node\n",
      "Your kernel may have been built without NUMA support.\n",
      "2024-06-26 12:21:55.014956: I tensorflow/core/common_runtime/gpu/gpu_device.cc:2022] Could not identify NUMA node of platform GPU id 0, defaulting to 0.  Your kernel may not have been built with NUMA support.\n",
      "2024-06-26 12:21:55.015026: I external/local_xla/xla/stream_executor/cuda/cuda_executor.cc:887] could not open file to read NUMA node: /sys/bus/pci/devices/0000:02:00.0/numa_node\n",
      "Your kernel may have been built without NUMA support.\n",
      "2024-06-26 12:21:55.015078: I tensorflow/core/common_runtime/gpu/gpu_device.cc:1929] Created device /job:localhost/replica:0/task:0/device:GPU:0 with 1781 MB memory:  -> device: 0, name: NVIDIA GeForce RTX 2050, pci bus id: 0000:02:00.0, compute capability: 8.6\n"
     ]
    }
   ],
   "source": [
    "capa = tf.keras.layers.Dense(units=1, input_shape=[1])\n",
    "modelo = tf.keras.Sequential([capa])"
   ]
  },
  {
   "cell_type": "code",
   "execution_count": 4,
   "id": "12e6184f",
   "metadata": {},
   "outputs": [],
   "source": [
    "modelo.compile(\n",
    "    optimizer=tf.keras.optimizers.Adam(0.1),\n",
    "    loss='mean_squared_error'\n",
    ")"
   ]
  },
  {
   "cell_type": "code",
   "execution_count": 5,
   "id": "3f6ac2e5",
   "metadata": {},
   "outputs": [
    {
     "name": "stdout",
     "output_type": "stream",
     "text": [
      "Comenzando entrenamiento...\n"
     ]
    },
    {
     "name": "stderr",
     "output_type": "stream",
     "text": [
      "2024-06-26 12:22:30.765360: I external/local_tsl/tsl/platform/default/subprocess.cc:304] Start cannot spawn child process: No such file or directory\n",
      "2024-06-26 12:22:31.137267: I external/local_xla/xla/service/service.cc:168] XLA service 0x555b41ccbfe0 initialized for platform CUDA (this does not guarantee that XLA will be used). Devices:\n",
      "2024-06-26 12:22:31.137353: I external/local_xla/xla/service/service.cc:176]   StreamExecutor device (0): NVIDIA GeForce RTX 2050, Compute Capability 8.6\n",
      "2024-06-26 12:22:31.157834: I tensorflow/compiler/mlir/tensorflow/utils/dump_mlir_util.cc:269] disabling MLIR crash reproducer, set env var `MLIR_CRASH_REPRODUCER_DIRECTORY` to enable.\n",
      "2024-06-26 12:22:31.218409: I external/local_xla/xla/stream_executor/cuda/cuda_dnn.cc:454] Loaded cuDNN version 8907\n",
      "WARNING: All log messages before absl::InitializeLog() is called are written to STDERR\n",
      "I0000 00:00:1719418951.339728   21912 device_compiler.h:186] Compiled cluster using XLA!  This line is logged at most once for the lifetime of the process.\n"
     ]
    },
    {
     "name": "stdout",
     "output_type": "stream",
     "text": [
      "Modelo entrenado!\n"
     ]
    }
   ],
   "source": [
    "print(\"Comenzando entrenamiento...\")\n",
    "historial = modelo.fit(pctje,cels, epochs=700, verbose=False)\n",
    "print(\"Modelo entrenado!\")"
   ]
  },
  {
   "cell_type": "code",
   "execution_count": 18,
   "id": "5ab4df5e",
   "metadata": {},
   "outputs": [
    {
     "data": {
      "image/png": "[encoded data removed]",
      "text/plain": [
       "<Figure size 640x480 with 1 Axes>"
      ]
     },
     "metadata": {},
     "output_type": "display_data"
    }
   ],
   "source": [
    "import matplotlib.pyplot as plt\n",
    "plt.xlabel(\"# Intento\")\n",
    "plt.ylabel(\"Magnitud de pérdida\")\n",
    "plt.plot(historial.history[\"loss\"])\n",
    "plt.savefig('Loss.png', dpi=300)"
   ]
  },
  {
   "cell_type": "code",
   "execution_count": 20,
   "id": "4baf304f",
   "metadata": {},
   "outputs": [
    {
     "name": "stdout",
     "output_type": "stream",
     "text": [
      "Hagamos una predicción!\n",
      "1/1 [==============================] - 0s 58ms/step\n",
      "El resultado es [[11.259279]] celsius!\n"
     ]
    }
   ],
   "source": [
    "print(\"Hagamos una predicción!\")\n",
    "resultado = modelo.predict([26.4])\n",
    "print(\"El resultado es \" + str(resultado) + \" celsius!\")"
   ]
  },
  {
   "cell_type": "code",
   "execution_count": 9,
   "id": "c5ab76cf",
   "metadata": {},
   "outputs": [
    {
     "name": "stdout",
     "output_type": "stream",
     "text": [
      "Variables internas del modelo\n",
      "[array([[1.2091645]], dtype=float32), array([-20.662663], dtype=float32)]\n"
     ]
    }
   ],
   "source": [
    "print(\"Variables internas del modelo\")\n",
    "print(capa.get_weights())"
   ]
  },
  {
   "cell_type": "code",
   "execution_count": 17,
   "id": "3cd563b9",
   "metadata": {},
   "outputs": [
    {
     "ename": "KeyError",
     "evalue": "700",
     "output_type": "error",
     "traceback": [
      "\u001b[0;31m---------------------------------------------------------------------------\u001b[0m",
      "\u001b[0;31mKeyError\u001b[0m                                  Traceback (most recent call last)",
      "Cell \u001b[0;32mIn[17], line 1\u001b[0m\n\u001b[0;32m----> 1\u001b[0m \u001b[38;5;28mprint\u001b[39m((\u001b[43mhistorial\u001b[49m\u001b[38;5;241;43m.\u001b[39;49m\u001b[43mhistory\u001b[49m\u001b[43m[\u001b[49m\u001b[38;5;241;43m700\u001b[39;49m\u001b[43m]\u001b[49m))\n",
      "\u001b[0;31mKeyError\u001b[0m: 700"
     ]
    }
   ],
   "source": []
  }
 ],
 "metadata": {
  "kernelspec": {
   "display_name": "Python 3 (ipykernel)",
   "language": "python",
   "name": "python3"
  },
  "language_info": {
   "codemirror_mode": {
    "name": "ipython",
    "version": 3
   },
   "file_extension": ".py",
   "mimetype": "text/x-python",
   "name": "python",
   "nbconvert_exporter": "python",
   "pygments_lexer": "ipython3",
   "version": "3.10.12"
  }
 },
 "nbformat": 4,
 "nbformat_minor": 5
}
