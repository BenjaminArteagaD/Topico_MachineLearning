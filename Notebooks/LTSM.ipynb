{
 "cells": [
  {
   "cell_type": "code",
   "execution_count": 1,
   "id": "f6a29e8a",
   "metadata": {},
   "outputs": [
    {
     "data": {
      "text/html": [
       "        <script type=\"text/javascript\">\n",
       "        window.PlotlyConfig = {MathJaxConfig: 'local'};\n",
       "        if (window.MathJax && window.MathJax.Hub && window.MathJax.Hub.Config) {window.MathJax.Hub.Config({SVG: {font: \"STIX-Web\"}});}\n",
       "        if (typeof require !== 'undefined') {\n",
       "        require.undef(\"plotly\");\n",
       "        requirejs.config({\n",
       "            paths: {\n",
       "                'plotly': ['https://cdn.plot.ly/plotly-2.32.0.min']\n",
       "            }\n",
       "        });\n",
       "        require(['plotly'], function(Plotly) {\n",
       "            window._Plotly = Plotly;\n",
       "        });\n",
       "        }\n",
       "        </script>\n",
       "        "
      ]
     },
     "metadata": {},
     "output_type": "display_data"
    },
    {
     "name": "stdout",
     "output_type": "stream",
     "text": [
      "skforecast version: 0.12.1\n",
      "tensorflow version: 2.16.2\n"
     ]
    },
    {
     "name": "stderr",
     "output_type": "stream",
     "text": [
      "c:\\Users\\benja\\AppData\\Local\\Programs\\Python\\Python310\\lib\\site-packages\\tqdm\\auto.py:21: TqdmWarning:\n",
      "\n",
      "IProgress not found. Please update jupyter and ipywidgets. See https://ipywidgets.readthedocs.io/en/stable/user_install.html\n",
      "\n"
     ]
    }
   ],
   "source": [
    "# Procesado de datos\n",
    "# ==============================================================================\n",
    "import pandas as pd\n",
    "import numpy as np\n",
    "from skforecast.datasets import fetch_dataset\n",
    "\n",
    "# Gráficos\n",
    "# ==============================================================================\n",
    "import matplotlib.pyplot as plt\n",
    "#from skforecast.plot import set_dark_theme\n",
    "#set_dark_theme()\n",
    "import plotly.express as px\n",
    "import plotly.graph_objects as go\n",
    "import plotly.io as pio\n",
    "import plotly.offline as poff\n",
    "pio.templates.default = \"seaborn\"\n",
    "poff.init_notebook_mode(connected=True)\n",
    "\n",
    "# Tensorflow and Keras\n",
    "# ==============================================================================\n",
    "import tensorflow\n",
    "from tensorflow.keras.optimizers import Adam # type: ignore\n",
    "from tensorflow.keras.losses import MeanSquaredError # type: ignore\n",
    "from tensorflow.keras.callbacks import EarlyStopping # type: ignore\n",
    "\n",
    "# Modelado series temporales\n",
    "# ==============================================================================\n",
    "import skforecast\n",
    "from skforecast.ForecasterRnn import ForecasterRnn\n",
    "from skforecast.ForecasterRnn.utils import create_and_compile_model\n",
    "from sklearn.preprocessing import MinMaxScaler\n",
    "from skforecast.model_selection_multiseries import backtesting_forecaster_multiseries\n",
    "\n",
    "# Configuración warnings\n",
    "# ==============================================================================\n",
    "import warnings\n",
    "warnings.filterwarnings('once')\n",
    "\n",
    "print(f\"skforecast version: {skforecast.__version__}\")\n",
    "print(f\"tensorflow version: {tensorflow.__version__}\")\n"
   ]
  },
  {
   "cell_type": "code",
   "execution_count": 2,
   "id": "0d8c27fc",
   "metadata": {},
   "outputs": [
    {
     "name": "stdout",
     "output_type": "stream",
     "text": [
      "air_quality_valencia\n",
      "--------------------\n",
      "Hourly measures of several air quimical pollutant (pm2.5, co, no, no2, pm10,\n",
      "nox, o3, so2) at Valencia city.\n",
      " Red de Vigilancia y Control de la Contaminación Atmosférica, 46250054-València\n",
      "- Centre, https://mediambient.gva.es/es/web/calidad-ambiental/datos-historicos.\n",
      "Shape of the dataset: (26304, 10)\n"
     ]
    }
   ],
   "source": [
    "# Descarga y procesado de datos\n",
    "# ==============================================================================\n",
    "air_quality = fetch_dataset(name=\"air_quality_valencia\")"
   ]
  },
  {
   "cell_type": "code",
   "execution_count": 3,
   "id": "35a62ec0",
   "metadata": {},
   "outputs": [
    {
     "data": {
      "text/html": [
       "<div>\n",
       "<style scoped>\n",
       "    .dataframe tbody tr th:only-of-type {\n",
       "        vertical-align: middle;\n",
       "    }\n",
       "\n",
       "    .dataframe tbody tr th {\n",
       "        vertical-align: top;\n",
       "    }\n",
       "\n",
       "    .dataframe thead th {\n",
       "        text-align: right;\n",
       "    }\n",
       "</style>\n",
       "<table border=\"1\" class=\"dataframe\">\n",
       "  <thead>\n",
       "    <tr style=\"text-align: right;\">\n",
       "      <th></th>\n",
       "      <th>pm2.5</th>\n",
       "      <th>co</th>\n",
       "      <th>no</th>\n",
       "      <th>no2</th>\n",
       "      <th>pm10</th>\n",
       "      <th>nox</th>\n",
       "      <th>o3</th>\n",
       "      <th>veloc.</th>\n",
       "      <th>direc.</th>\n",
       "      <th>so2</th>\n",
       "    </tr>\n",
       "    <tr>\n",
       "      <th>datetime</th>\n",
       "      <th></th>\n",
       "      <th></th>\n",
       "      <th></th>\n",
       "      <th></th>\n",
       "      <th></th>\n",
       "      <th></th>\n",
       "      <th></th>\n",
       "      <th></th>\n",
       "      <th></th>\n",
       "      <th></th>\n",
       "    </tr>\n",
       "  </thead>\n",
       "  <tbody>\n",
       "    <tr>\n",
       "      <th>2019-01-01 00:00:00</th>\n",
       "      <td>19.0</td>\n",
       "      <td>0.2</td>\n",
       "      <td>3.0</td>\n",
       "      <td>36.0</td>\n",
       "      <td>22.0</td>\n",
       "      <td>40.0</td>\n",
       "      <td>16.0</td>\n",
       "      <td>0.5</td>\n",
       "      <td>262.0</td>\n",
       "      <td>8.0</td>\n",
       "    </tr>\n",
       "    <tr>\n",
       "      <th>2019-01-01 01:00:00</th>\n",
       "      <td>26.0</td>\n",
       "      <td>0.1</td>\n",
       "      <td>2.0</td>\n",
       "      <td>40.0</td>\n",
       "      <td>32.0</td>\n",
       "      <td>44.0</td>\n",
       "      <td>6.0</td>\n",
       "      <td>0.6</td>\n",
       "      <td>248.0</td>\n",
       "      <td>8.0</td>\n",
       "    </tr>\n",
       "    <tr>\n",
       "      <th>2019-01-01 02:00:00</th>\n",
       "      <td>31.0</td>\n",
       "      <td>0.1</td>\n",
       "      <td>11.0</td>\n",
       "      <td>42.0</td>\n",
       "      <td>36.0</td>\n",
       "      <td>58.0</td>\n",
       "      <td>3.0</td>\n",
       "      <td>0.3</td>\n",
       "      <td>224.0</td>\n",
       "      <td>8.0</td>\n",
       "    </tr>\n",
       "    <tr>\n",
       "      <th>2019-01-01 03:00:00</th>\n",
       "      <td>30.0</td>\n",
       "      <td>0.1</td>\n",
       "      <td>15.0</td>\n",
       "      <td>41.0</td>\n",
       "      <td>35.0</td>\n",
       "      <td>63.0</td>\n",
       "      <td>3.0</td>\n",
       "      <td>0.2</td>\n",
       "      <td>220.0</td>\n",
       "      <td>10.0</td>\n",
       "    </tr>\n",
       "    <tr>\n",
       "      <th>2019-01-01 04:00:00</th>\n",
       "      <td>30.0</td>\n",
       "      <td>0.1</td>\n",
       "      <td>16.0</td>\n",
       "      <td>39.0</td>\n",
       "      <td>36.0</td>\n",
       "      <td>63.0</td>\n",
       "      <td>3.0</td>\n",
       "      <td>0.4</td>\n",
       "      <td>221.0</td>\n",
       "      <td>11.0</td>\n",
       "    </tr>\n",
       "  </tbody>\n",
       "</table>\n",
       "</div>"
      ],
      "text/plain": [
       "                     pm2.5   co    no   no2  pm10   nox    o3  veloc.  direc.  \\\n",
       "datetime                                                                        \n",
       "2019-01-01 00:00:00   19.0  0.2   3.0  36.0  22.0  40.0  16.0     0.5   262.0   \n",
       "2019-01-01 01:00:00   26.0  0.1   2.0  40.0  32.0  44.0   6.0     0.6   248.0   \n",
       "2019-01-01 02:00:00   31.0  0.1  11.0  42.0  36.0  58.0   3.0     0.3   224.0   \n",
       "2019-01-01 03:00:00   30.0  0.1  15.0  41.0  35.0  63.0   3.0     0.2   220.0   \n",
       "2019-01-01 04:00:00   30.0  0.1  16.0  39.0  36.0  63.0   3.0     0.4   221.0   \n",
       "\n",
       "                      so2  \n",
       "datetime                   \n",
       "2019-01-01 00:00:00   8.0  \n",
       "2019-01-01 01:00:00   8.0  \n",
       "2019-01-01 02:00:00   8.0  \n",
       "2019-01-01 03:00:00  10.0  \n",
       "2019-01-01 04:00:00  11.0  "
      ]
     },
     "execution_count": 3,
     "metadata": {},
     "output_type": "execute_result"
    }
   ],
   "source": [
    "# Imputación de datos ausentes mediante interpolación lineal\n",
    "# ==============================================================================\n",
    "air_quality = air_quality.interpolate(method=\"linear\")\n",
    "air_quality = air_quality.sort_index()\n",
    "air_quality.head()"
   ]
  },
  {
   "cell_type": "code",
   "execution_count": 4,
   "id": "ba499695",
   "metadata": {},
   "outputs": [
    {
     "name": "stdout",
     "output_type": "stream",
     "text": [
      "Tipo de índice: datetime64[ns]\n",
      "Frecuencia: <Hour>\n"
     ]
    }
   ],
   "source": [
    "# Comprobación de índice y frecuencia\n",
    "# ==============================================================================\n",
    "print(f\"Tipo de índice: {air_quality.index.dtype}\")\n",
    "print(f\"Frecuencia: {air_quality.index.freq}\")"
   ]
  },
  {
   "cell_type": "code",
   "execution_count": 5,
   "id": "66627813",
   "metadata": {},
   "outputs": [],
   "source": [
    "plt.style.use(['seaborn-v0_8-darkgrid'])\n"
   ]
  },
  {
   "cell_type": "code",
   "execution_count": 6,
   "id": "87838244",
   "metadata": {},
   "outputs": [
    {
     "name": "stdout",
     "output_type": "stream",
     "text": [
      "Fechas train      : 2019-01-01 00:00:00 --- 2021-03-31 23:00:00  (n=19704)\n",
      "Fechas validation : 2021-04-01 00:00:00 --- 2021-09-30 23:00:00  (n=4392)\n",
      "Fechas test       : 2021-10-01 00:00:00 --- 2021-12-31 23:00:00  (n=2208)\n"
     ]
    }
   ],
   "source": [
    "# Split train-validation-test\n",
    "# ==============================================================================\n",
    "end_train = \"2021-03-31 23:59:00\"\n",
    "end_validation = \"2021-09-30 23:59:00\"\n",
    "air_quality_train = air_quality.loc[:end_train, :].copy()\n",
    "air_quality_val = air_quality.loc[end_train:end_validation, :].copy()\n",
    "air_quality_test = air_quality.loc[end_validation:, :].copy()\n",
    "\n",
    "print(\n",
    "    f\"Fechas train      : {air_quality_train.index.min()} --- \" \n",
    "    f\"{air_quality_train.index.max()}  (n={len(air_quality_train)})\"\n",
    ")\n",
    "print(\n",
    "    f\"Fechas validation : {air_quality_val.index.min()} --- \" \n",
    "    f\"{air_quality_val.index.max()}  (n={len(air_quality_val)})\"\n",
    ")\n",
    "print(\n",
    "    f\"Fechas test       : {air_quality_test.index.min()} --- \" \n",
    "    f\"{air_quality_test.index.max()}  (n={len(air_quality_test)})\"\n",
    ")"
   ]
  },
  {
   "cell_type": "code",
   "execution_count": 7,
   "id": "2b29e826",
   "metadata": {},
   "outputs": [
    {
     "data": {
      "text/plain": [
       "Text(0, 0.5, 'µg/m³')"
      ]
     },
     "execution_count": 7,
     "metadata": {},
     "output_type": "execute_result"
    },
    {
     "data": {
      "image/png": "[encoded data removed]",
      "text/plain": [
       "<Figure size 800x300 with 1 Axes>"
      ]
     },
     "metadata": {},
     "output_type": "display_data"
    }
   ],
   "source": [
    "# Gráfico de la serie temporal del contaminante pm2.5\n",
    "# ==============================================================================\n",
    "fig, ax = plt.subplots(figsize=(8, 3))\n",
    "air_quality_train[\"o3\"].rolling(100).mean().plot(ax=ax, label=\"entrenamiento\")\n",
    "air_quality_val[\"o3\"].rolling(100).mean().plot(ax=ax, label=\"validación\")\n",
    "air_quality_test[\"o3\"].rolling(100).mean().plot(ax=ax, label=\"test\")\n",
    "ax.set_title(\"Serie de tiempo de O3\")\n",
    "ax.legend(loc='lower right',ncol=3)\n",
    "plt.xlabel(\"Fechas\")   \n",
    "plt.ylabel(\"µg/m³\")"
   ]
  },
  {
   "cell_type": "markdown",
   "id": "488fc556",
   "metadata": {},
   "source": [
    "## Modelo LTSM Y ForecasterRnn"
   ]
  },
  {
   "cell_type": "code",
   "execution_count": 8,
   "id": "e89a7553",
   "metadata": {},
   "outputs": [
    {
     "data": {
      "text/html": [
       "<pre style=\"white-space:pre;overflow-x:auto;line-height:normal;font-family:Menlo,'DejaVu Sans Mono',consolas,'Courier New',monospace\"><span style=\"font-weight: bold\">Model: \"functional\"</span>\n",
       "</pre>\n"
      ],
      "text/plain": [
       "\u001b[1mModel: \"functional\"\u001b[0m\n"
      ]
     },
     "metadata": {},
     "output_type": "display_data"
    },
    {
     "data": {
      "text/html": [
       "<pre style=\"white-space:pre;overflow-x:auto;line-height:normal;font-family:Menlo,'DejaVu Sans Mono',consolas,'Courier New',monospace\">┏━━━━━━━━━━━━━━━━━━━━━━━━━━━━━━━━━┳━━━━━━━━━━━━━━━━━━━━━━━━┳━━━━━━━━━━━━━━━┓\n",
       "┃<span style=\"font-weight: bold\"> Layer (type)                    </span>┃<span style=\"font-weight: bold\"> Output Shape           </span>┃<span style=\"font-weight: bold\">       Param # </span>┃\n",
       "┡━━━━━━━━━━━━━━━━━━━━━━━━━━━━━━━━━╇━━━━━━━━━━━━━━━━━━━━━━━━╇━━━━━━━━━━━━━━━┩\n",
       "│ input_layer (<span style=\"color: #0087ff; text-decoration-color: #0087ff\">InputLayer</span>)        │ (<span style=\"color: #00d7ff; text-decoration-color: #00d7ff\">None</span>, <span style=\"color: #00af00; text-decoration-color: #00af00\">32</span>, <span style=\"color: #00af00; text-decoration-color: #00af00\">1</span>)          │             <span style=\"color: #00af00; text-decoration-color: #00af00\">0</span> │\n",
       "├─────────────────────────────────┼────────────────────────┼───────────────┤\n",
       "│ lstm (<span style=\"color: #0087ff; text-decoration-color: #0087ff\">LSTM</span>)                     │ (<span style=\"color: #00d7ff; text-decoration-color: #00d7ff\">None</span>, <span style=\"color: #00af00; text-decoration-color: #00af00\">4</span>)              │            <span style=\"color: #00af00; text-decoration-color: #00af00\">96</span> │\n",
       "├─────────────────────────────────┼────────────────────────┼───────────────┤\n",
       "│ dense (<span style=\"color: #0087ff; text-decoration-color: #0087ff\">Dense</span>)                   │ (<span style=\"color: #00d7ff; text-decoration-color: #00d7ff\">None</span>, <span style=\"color: #00af00; text-decoration-color: #00af00\">16</span>)             │            <span style=\"color: #00af00; text-decoration-color: #00af00\">80</span> │\n",
       "├─────────────────────────────────┼────────────────────────┼───────────────┤\n",
       "│ dense_1 (<span style=\"color: #0087ff; text-decoration-color: #0087ff\">Dense</span>)                 │ (<span style=\"color: #00d7ff; text-decoration-color: #00d7ff\">None</span>, <span style=\"color: #00af00; text-decoration-color: #00af00\">1</span>)              │            <span style=\"color: #00af00; text-decoration-color: #00af00\">17</span> │\n",
       "├─────────────────────────────────┼────────────────────────┼───────────────┤\n",
       "│ reshape (<span style=\"color: #0087ff; text-decoration-color: #0087ff\">Reshape</span>)               │ (<span style=\"color: #00d7ff; text-decoration-color: #00d7ff\">None</span>, <span style=\"color: #00af00; text-decoration-color: #00af00\">1</span>, <span style=\"color: #00af00; text-decoration-color: #00af00\">1</span>)           │             <span style=\"color: #00af00; text-decoration-color: #00af00\">0</span> │\n",
       "└─────────────────────────────────┴────────────────────────┴───────────────┘\n",
       "</pre>\n"
      ],
      "text/plain": [
       "┏━━━━━━━━━━━━━━━━━━━━━━━━━━━━━━━━━┳━━━━━━━━━━━━━━━━━━━━━━━━┳━━━━━━━━━━━━━━━┓\n",
       "┃\u001b[1m \u001b[0m\u001b[1mLayer (type)                   \u001b[0m\u001b[1m \u001b[0m┃\u001b[1m \u001b[0m\u001b[1mOutput Shape          \u001b[0m\u001b[1m \u001b[0m┃\u001b[1m \u001b[0m\u001b[1m      Param #\u001b[0m\u001b[1m \u001b[0m┃\n",
       "┡━━━━━━━━━━━━━━━━━━━━━━━━━━━━━━━━━╇━━━━━━━━━━━━━━━━━━━━━━━━╇━━━━━━━━━━━━━━━┩\n",
       "│ input_layer (\u001b[38;5;33mInputLayer\u001b[0m)        │ (\u001b[38;5;45mNone\u001b[0m, \u001b[38;5;34m32\u001b[0m, \u001b[38;5;34m1\u001b[0m)          │             \u001b[38;5;34m0\u001b[0m │\n",
       "├─────────────────────────────────┼────────────────────────┼───────────────┤\n",
       "│ lstm (\u001b[38;5;33mLSTM\u001b[0m)                     │ (\u001b[38;5;45mNone\u001b[0m, \u001b[38;5;34m4\u001b[0m)              │            \u001b[38;5;34m96\u001b[0m │\n",
       "├─────────────────────────────────┼────────────────────────┼───────────────┤\n",
       "│ dense (\u001b[38;5;33mDense\u001b[0m)                   │ (\u001b[38;5;45mNone\u001b[0m, \u001b[38;5;34m16\u001b[0m)             │            \u001b[38;5;34m80\u001b[0m │\n",
       "├─────────────────────────────────┼────────────────────────┼───────────────┤\n",
       "│ dense_1 (\u001b[38;5;33mDense\u001b[0m)                 │ (\u001b[38;5;45mNone\u001b[0m, \u001b[38;5;34m1\u001b[0m)              │            \u001b[38;5;34m17\u001b[0m │\n",
       "├─────────────────────────────────┼────────────────────────┼───────────────┤\n",
       "│ reshape (\u001b[38;5;33mReshape\u001b[0m)               │ (\u001b[38;5;45mNone\u001b[0m, \u001b[38;5;34m1\u001b[0m, \u001b[38;5;34m1\u001b[0m)           │             \u001b[38;5;34m0\u001b[0m │\n",
       "└─────────────────────────────────┴────────────────────────┴───────────────┘\n"
      ]
     },
     "metadata": {},
     "output_type": "display_data"
    },
    {
     "data": {
      "text/html": [
       "<pre style=\"white-space:pre;overflow-x:auto;line-height:normal;font-family:Menlo,'DejaVu Sans Mono',consolas,'Courier New',monospace\"><span style=\"font-weight: bold\"> Total params: </span><span style=\"color: #00af00; text-decoration-color: #00af00\">193</span> (772.00 B)\n",
       "</pre>\n"
      ],
      "text/plain": [
       "\u001b[1m Total params: \u001b[0m\u001b[38;5;34m193\u001b[0m (772.00 B)\n"
      ]
     },
     "metadata": {},
     "output_type": "display_data"
    },
    {
     "data": {
      "text/html": [
       "<pre style=\"white-space:pre;overflow-x:auto;line-height:normal;font-family:Menlo,'DejaVu Sans Mono',consolas,'Courier New',monospace\"><span style=\"font-weight: bold\"> Trainable params: </span><span style=\"color: #00af00; text-decoration-color: #00af00\">193</span> (772.00 B)\n",
       "</pre>\n"
      ],
      "text/plain": [
       "\u001b[1m Trainable params: \u001b[0m\u001b[38;5;34m193\u001b[0m (772.00 B)\n"
      ]
     },
     "metadata": {},
     "output_type": "display_data"
    },
    {
     "data": {
      "text/html": [
       "<pre style=\"white-space:pre;overflow-x:auto;line-height:normal;font-family:Menlo,'DejaVu Sans Mono',consolas,'Courier New',monospace\"><span style=\"font-weight: bold\"> Non-trainable params: </span><span style=\"color: #00af00; text-decoration-color: #00af00\">0</span> (0.00 B)\n",
       "</pre>\n"
      ],
      "text/plain": [
       "\u001b[1m Non-trainable params: \u001b[0m\u001b[38;5;34m0\u001b[0m (0.00 B)\n"
      ]
     },
     "metadata": {},
     "output_type": "display_data"
    }
   ],
   "source": [
    "# Creación del modelo\n",
    "# ==============================================================================\n",
    "series = [\"o3\"] # Series temporales que se utilizarán para entrenar el modelo.\n",
    "levels = [\"o3\"] # Serie que se quiere predecir\n",
    "lags = 32 # Valores pasados a utilizar en la predicción\n",
    "steps = 1 # Pasos a futuro a predecir\n",
    "\n",
    "# Selección de las series temporales utilizadas\n",
    "data = air_quality[series].copy()\n",
    "data_train = air_quality_train[series].copy()\n",
    "data_val = air_quality_val[series].copy()\n",
    "data_test = air_quality_test[series].copy()\n",
    "\n",
    "model = create_and_compile_model(\n",
    "    series=data_train,\n",
    "    levels=levels, \n",
    "    lags=lags,\n",
    "    steps=steps,\n",
    "    recurrent_layer=\"LSTM\",\n",
    "    recurrent_units=4,\n",
    "    dense_units=16,\n",
    "    optimizer=Adam(learning_rate=0.01), \n",
    "    loss=MeanSquaredError()\n",
    ")\n",
    "model.summary()"
   ]
  },
  {
   "cell_type": "code",
   "execution_count": 9,
   "id": "77f98dc5",
   "metadata": {
    "scrolled": true
   },
   "outputs": [
    {
     "ename": "AttributeError",
     "evalue": "'InputLayer' object has no attribute 'input_shape'",
     "output_type": "error",
     "traceback": [
      "\u001b[1;31m---------------------------------------------------------------------------\u001b[0m",
      "\u001b[1;31mAttributeError\u001b[0m                            Traceback (most recent call last)",
      "Cell \u001b[1;32mIn[9], line 3\u001b[0m\n\u001b[0;32m      1\u001b[0m \u001b[38;5;66;03m# Creación del forecaster\u001b[39;00m\n\u001b[0;32m      2\u001b[0m \u001b[38;5;66;03m# ==============================================================================\u001b[39;00m\n\u001b[1;32m----> 3\u001b[0m forecaster \u001b[38;5;241m=\u001b[39m \u001b[43mForecasterRnn\u001b[49m\u001b[43m(\u001b[49m\n\u001b[0;32m      4\u001b[0m \u001b[43m    \u001b[49m\u001b[43mregressor\u001b[49m\u001b[38;5;241;43m=\u001b[39;49m\u001b[43mmodel\u001b[49m\u001b[43m,\u001b[49m\n\u001b[0;32m      5\u001b[0m \u001b[43m    \u001b[49m\u001b[43mlevels\u001b[49m\u001b[38;5;241;43m=\u001b[39;49m\u001b[43mlevels\u001b[49m\u001b[43m,\u001b[49m\n\u001b[0;32m      6\u001b[0m \u001b[43m    \u001b[49m\u001b[43mtransformer_series\u001b[49m\u001b[38;5;241;43m=\u001b[39;49m\u001b[43mMinMaxScaler\u001b[49m\u001b[43m(\u001b[49m\u001b[43m)\u001b[49m\u001b[43m,\u001b[49m\n\u001b[0;32m      7\u001b[0m \u001b[43m    \u001b[49m\u001b[43mfit_kwargs\u001b[49m\u001b[38;5;241;43m=\u001b[39;49m\u001b[43m{\u001b[49m\n\u001b[0;32m      8\u001b[0m \u001b[43m        \u001b[49m\u001b[38;5;124;43m\"\u001b[39;49m\u001b[38;5;124;43mepochs\u001b[39;49m\u001b[38;5;124;43m\"\u001b[39;49m\u001b[43m:\u001b[49m\u001b[43m \u001b[49m\u001b[38;5;241;43m10\u001b[39;49m\u001b[43m,\u001b[49m\u001b[43m  \u001b[49m\u001b[38;5;66;43;03m# Número de épocas para entrenar el modelo.\u001b[39;49;00m\n\u001b[0;32m      9\u001b[0m \u001b[43m        \u001b[49m\u001b[38;5;124;43m\"\u001b[39;49m\u001b[38;5;124;43mbatch_size\u001b[39;49m\u001b[38;5;124;43m\"\u001b[39;49m\u001b[43m:\u001b[49m\u001b[43m \u001b[49m\u001b[38;5;241;43m32\u001b[39;49m\u001b[43m,\u001b[49m\u001b[43m  \u001b[49m\u001b[38;5;66;43;03m# Tamaño del batch para entrenar el modelo.\u001b[39;49;00m\n\u001b[0;32m     10\u001b[0m \u001b[43m        \u001b[49m\u001b[38;5;124;43m\"\u001b[39;49m\u001b[38;5;124;43mcallbacks\u001b[39;49m\u001b[38;5;124;43m\"\u001b[39;49m\u001b[43m:\u001b[49m\u001b[43m \u001b[49m\u001b[43m[\u001b[49m\n\u001b[0;32m     11\u001b[0m \u001b[43m            \u001b[49m\u001b[43mEarlyStopping\u001b[49m\u001b[43m(\u001b[49m\u001b[43mmonitor\u001b[49m\u001b[38;5;241;43m=\u001b[39;49m\u001b[38;5;124;43m\"\u001b[39;49m\u001b[38;5;124;43mval_loss\u001b[39;49m\u001b[38;5;124;43m\"\u001b[39;49m\u001b[43m,\u001b[49m\u001b[43m \u001b[49m\u001b[43mpatience\u001b[49m\u001b[38;5;241;43m=\u001b[39;49m\u001b[38;5;241;43m5\u001b[39;49m\u001b[43m)\u001b[49m\n\u001b[0;32m     12\u001b[0m \u001b[43m        \u001b[49m\u001b[43m]\u001b[49m\u001b[43m,\u001b[49m\u001b[43m  \u001b[49m\u001b[38;5;66;43;03m# Callback para detener el entrenamiento cuando ya no esté aprendiendo más.\u001b[39;49;00m\n\u001b[0;32m     13\u001b[0m \u001b[43m        \u001b[49m\u001b[38;5;124;43m\"\u001b[39;49m\u001b[38;5;124;43mseries_val\u001b[39;49m\u001b[38;5;124;43m\"\u001b[39;49m\u001b[43m:\u001b[49m\u001b[43m \u001b[49m\u001b[43mdata_val\u001b[49m\u001b[43m,\u001b[49m\u001b[43m  \u001b[49m\u001b[38;5;66;43;03m# Datos de validación para el entrenamiento del modelo.\u001b[39;49;00m\n\u001b[0;32m     14\u001b[0m \u001b[43m    \u001b[49m\u001b[43m}\u001b[49m\u001b[43m,\u001b[49m\n\u001b[0;32m     15\u001b[0m \u001b[43m)\u001b[49m\n\u001b[0;32m     16\u001b[0m forecaster\n",
      "File \u001b[1;32mc:\\Users\\benja\\AppData\\Local\\Programs\\Python\\Python310\\lib\\site-packages\\skforecast\\ForecasterRnn\\ForecasterRnn.py:221\u001b[0m, in \u001b[0;36mForecasterRnn.__init__\u001b[1;34m(self, regressor, levels, lags, steps, transformer_series, weight_func, fit_kwargs, forecaster_id, n_jobs, transformer_exog)\u001b[0m\n\u001b[0;32m    218\u001b[0m layer_init \u001b[38;5;241m=\u001b[39m \u001b[38;5;28mself\u001b[39m\u001b[38;5;241m.\u001b[39mregressor\u001b[38;5;241m.\u001b[39mlayers[\u001b[38;5;241m0\u001b[39m]\n\u001b[0;32m    220\u001b[0m \u001b[38;5;28;01mif\u001b[39;00m lags \u001b[38;5;241m==\u001b[39m \u001b[38;5;124m\"\u001b[39m\u001b[38;5;124mauto\u001b[39m\u001b[38;5;124m\"\u001b[39m:\n\u001b[1;32m--> 221\u001b[0m     \u001b[38;5;28mself\u001b[39m\u001b[38;5;241m.\u001b[39mlags \u001b[38;5;241m=\u001b[39m np\u001b[38;5;241m.\u001b[39marange(\u001b[43mlayer_init\u001b[49m\u001b[38;5;241;43m.\u001b[39;49m\u001b[43minput_shape\u001b[49m[\u001b[38;5;241m0\u001b[39m][\u001b[38;5;241m1\u001b[39m]) \u001b[38;5;241m+\u001b[39m \u001b[38;5;241m1\u001b[39m\n\u001b[0;32m    222\u001b[0m     warnings\u001b[38;5;241m.\u001b[39mwarn(\n\u001b[0;32m    223\u001b[0m         \u001b[38;5;124m\"\u001b[39m\u001b[38;5;124mSetting `lags` = \u001b[39m\u001b[38;5;124m'\u001b[39m\u001b[38;5;124mauto\u001b[39m\u001b[38;5;124m'\u001b[39m\u001b[38;5;124m. `lags` are inferred from the regressor \u001b[39m\u001b[38;5;124m\"\u001b[39m \n\u001b[0;32m    224\u001b[0m         \u001b[38;5;124m\"\u001b[39m\u001b[38;5;124marchitecture. Avoid the warning with lags=lags.\u001b[39m\u001b[38;5;124m\"\u001b[39m\n\u001b[0;32m    225\u001b[0m     )\n\u001b[0;32m    226\u001b[0m \u001b[38;5;28;01melif\u001b[39;00m \u001b[38;5;28misinstance\u001b[39m(lags, \u001b[38;5;28mint\u001b[39m):\n",
      "\u001b[1;31mAttributeError\u001b[0m: 'InputLayer' object has no attribute 'input_shape'"
     ]
    }
   ],
   "source": [
    "# Creación del forecaster\n",
    "# ==============================================================================\n",
    "forecaster = ForecasterRnn(\n",
    "    regressor=model,\n",
    "    levels=levels,\n",
    "    transformer_series=MinMaxScaler(),\n",
    "    fit_kwargs={\n",
    "        \"epochs\": 10,  # Número de épocas para entrenar el modelo.\n",
    "        \"batch_size\": 32,  # Tamaño del batch para entrenar el modelo.\n",
    "        \"callbacks\": [\n",
    "            EarlyStopping(monitor=\"val_loss\", patience=5)\n",
    "        ],  # Callback para detener el entrenamiento cuando ya no esté aprendiendo más.\n",
    "        \"series_val\": data_val,  # Datos de validación para el entrenamiento del modelo.\n",
    "    },\n",
    ")\n",
    "forecaster"
   ]
  },
  {
   "cell_type": "code",
   "execution_count": null,
   "id": "41c2957c",
   "metadata": {
    "scrolled": false
   },
   "outputs": [
    {
     "ename": "NameError",
     "evalue": "name 'forecaster' is not defined",
     "output_type": "error",
     "traceback": [
      "\u001b[1;31m---------------------------------------------------------------------------\u001b[0m",
      "\u001b[1;31mNameError\u001b[0m                                 Traceback (most recent call last)",
      "Cell \u001b[1;32mIn[16], line 3\u001b[0m\n\u001b[0;32m      1\u001b[0m \u001b[38;5;66;03m# Entrenamiento del forecaster\u001b[39;00m\n\u001b[0;32m      2\u001b[0m \u001b[38;5;66;03m# ==============================================================================\u001b[39;00m\n\u001b[1;32m----> 3\u001b[0m \u001b[43mforecaster\u001b[49m\u001b[38;5;241m.\u001b[39mfit(data_train)\n",
      "\u001b[1;31mNameError\u001b[0m: name 'forecaster' is not defined"
     ]
    }
   ],
   "source": [
    "# Entrenamiento del forecaster\n",
    "# ==============================================================================\n",
    "forecaster.fit(data_train)"
   ]
  },
  {
   "cell_type": "code",
   "execution_count": null,
   "id": "c30246d8",
   "metadata": {},
   "outputs": [
    {
     "data": {
      "image/png": "[encoded data removed]",
      "text/plain": [
       "<Figure size 500x250 with 1 Axes>"
      ]
     },
     "metadata": {},
     "output_type": "display_data"
    }
   ],
   "source": [
    "# Seguimiento del entrenamiento y overfitting\n",
    "# ==============================================================================\n",
    "fig, ax = plt.subplots(figsize=(5, 2.5))\n",
    "forecaster.plot_history(ax=ax)"
   ]
  },
  {
   "cell_type": "code",
   "execution_count": null,
   "id": "e6db60a7",
   "metadata": {},
   "outputs": [
    {
     "data": {
      "text/html": [
       "<div>\n",
       "<style scoped>\n",
       "    .dataframe tbody tr th:only-of-type {\n",
       "        vertical-align: middle;\n",
       "    }\n",
       "\n",
       "    .dataframe tbody tr th {\n",
       "        vertical-align: top;\n",
       "    }\n",
       "\n",
       "    .dataframe thead th {\n",
       "        text-align: right;\n",
       "    }\n",
       "</style>\n",
       "<table border=\"1\" class=\"dataframe\">\n",
       "  <thead>\n",
       "    <tr style=\"text-align: right;\">\n",
       "      <th></th>\n",
       "      <th>o3</th>\n",
       "    </tr>\n",
       "  </thead>\n",
       "  <tbody>\n",
       "    <tr>\n",
       "      <th>2021-04-01</th>\n",
       "      <td>44.044189</td>\n",
       "    </tr>\n",
       "  </tbody>\n",
       "</table>\n",
       "</div>"
      ],
      "text/plain": [
       "                   o3\n",
       "2021-04-01  44.044189"
      ]
     },
     "execution_count": 11,
     "metadata": {},
     "output_type": "execute_result"
    }
   ],
   "source": [
    "# Predicción\n",
    "# ==============================================================================\n",
    "predictions = forecaster.predict()\n",
    "predictions"
   ]
  },
  {
   "cell_type": "code",
   "execution_count": null,
   "id": "8b31adbd",
   "metadata": {},
   "outputs": [
    {
     "name": "stdout",
     "output_type": "stream",
     "text": [
      "WARNING:tensorflow:Layer lstm will not use cuDNN kernels since it doesn't meet the criteria. It will use a generic GPU kernel as fallback when running on GPU.\n"
     ]
    },
    {
     "name": "stderr",
     "output_type": "stream",
     "text": [
      "tensorflow WARNING Layer lstm will not use cuDNN kernels since it doesn't meet the criteria. It will use a generic GPU kernel as fallback when running on GPU.\n"
     ]
    },
    {
     "name": "stdout",
     "output_type": "stream",
     "text": [
      "Epoch 1/10\n",
      "752/752 [==============================] - 52s 68ms/step - loss: 0.0052 - val_loss: 0.0057\n",
      "Epoch 2/10\n",
      "752/752 [==============================] - 49s 66ms/step - loss: 0.0051 - val_loss: 0.0052\n",
      "Epoch 3/10\n",
      "752/752 [==============================] - 47s 62ms/step - loss: 0.0051 - val_loss: 0.0053\n",
      "Epoch 4/10\n",
      "752/752 [==============================] - 42s 56ms/step - loss: 0.0051 - val_loss: 0.0052\n",
      "Epoch 5/10\n",
      "752/752 [==============================] - 36s 48ms/step - loss: 0.0051 - val_loss: 0.0052\n",
      "Epoch 6/10\n",
      "752/752 [==============================] - 40s 53ms/step - loss: 0.0051 - val_loss: 0.0055\n",
      "Epoch 7/10\n",
      "752/752 [==============================] - 44s 59ms/step - loss: 0.0051 - val_loss: 0.0052\n",
      "Epoch 8/10\n",
      "752/752 [==============================] - 55s 73ms/step - loss: 0.0050 - val_loss: 0.0052\n",
      "Epoch 9/10\n",
      "752/752 [==============================] - 43s 57ms/step - loss: 0.0050 - val_loss: 0.0051\n",
      "Epoch 10/10\n",
      "752/752 [==============================] - 41s 54ms/step - loss: 0.0050 - val_loss: 0.0050\n"
     ]
    },
    {
     "name": "stderr",
     "output_type": "stream",
     "text": [
      "100%|███████████████████████████████████████████████████████████████████████████████████████████████████████████| 2208/2208 [04:37<00:00,  7.96it/s]\n"
     ]
    }
   ],
   "source": [
    "# Backtesting con datos de test\n",
    "# ==============================================================================\n",
    "metrics, predictions = backtesting_forecaster_multiseries(\n",
    "    forecaster=forecaster,\n",
    "    steps=forecaster.max_step,\n",
    "    series=data,\n",
    "    levels=forecaster.levels,\n",
    "    initial_train_size=len(data.loc[:end_validation, :]), # Datos de entrenamiento + validación\n",
    "    metric=\"mean_absolute_error\",\n",
    "    verbose=False,\n",
    "    refit=False,\n",
    ")"
   ]
  },
  {
   "cell_type": "code",
   "execution_count": null,
   "id": "467f3f78",
   "metadata": {},
   "outputs": [
    {
     "data": {
      "text/html": [
       "<div>\n",
       "<style scoped>\n",
       "    .dataframe tbody tr th:only-of-type {\n",
       "        vertical-align: middle;\n",
       "    }\n",
       "\n",
       "    .dataframe tbody tr th {\n",
       "        vertical-align: top;\n",
       "    }\n",
       "\n",
       "    .dataframe thead th {\n",
       "        text-align: right;\n",
       "    }\n",
       "</style>\n",
       "<table border=\"1\" class=\"dataframe\">\n",
       "  <thead>\n",
       "    <tr style=\"text-align: right;\">\n",
       "      <th></th>\n",
       "      <th>o3</th>\n",
       "    </tr>\n",
       "  </thead>\n",
       "  <tbody>\n",
       "    <tr>\n",
       "      <th>2021-10-01 00:00:00</th>\n",
       "      <td>52.442066</td>\n",
       "    </tr>\n",
       "    <tr>\n",
       "      <th>2021-10-01 01:00:00</th>\n",
       "      <td>57.599495</td>\n",
       "    </tr>\n",
       "    <tr>\n",
       "      <th>2021-10-01 02:00:00</th>\n",
       "      <td>60.825691</td>\n",
       "    </tr>\n",
       "    <tr>\n",
       "      <th>2021-10-01 03:00:00</th>\n",
       "      <td>61.387489</td>\n",
       "    </tr>\n",
       "    <tr>\n",
       "      <th>2021-10-01 04:00:00</th>\n",
       "      <td>52.096485</td>\n",
       "    </tr>\n",
       "    <tr>\n",
       "      <th>...</th>\n",
       "      <td>...</td>\n",
       "    </tr>\n",
       "    <tr>\n",
       "      <th>2021-12-31 19:00:00</th>\n",
       "      <td>15.319837</td>\n",
       "    </tr>\n",
       "    <tr>\n",
       "      <th>2021-12-31 20:00:00</th>\n",
       "      <td>12.457646</td>\n",
       "    </tr>\n",
       "    <tr>\n",
       "      <th>2021-12-31 21:00:00</th>\n",
       "      <td>14.847246</td>\n",
       "    </tr>\n",
       "    <tr>\n",
       "      <th>2021-12-31 22:00:00</th>\n",
       "      <td>14.771048</td>\n",
       "    </tr>\n",
       "    <tr>\n",
       "      <th>2021-12-31 23:00:00</th>\n",
       "      <td>16.583181</td>\n",
       "    </tr>\n",
       "  </tbody>\n",
       "</table>\n",
       "<p>2208 rows × 1 columns</p>\n",
       "</div>"
      ],
      "text/plain": [
       "                            o3\n",
       "2021-10-01 00:00:00  52.442066\n",
       "2021-10-01 01:00:00  57.599495\n",
       "2021-10-01 02:00:00  60.825691\n",
       "2021-10-01 03:00:00  61.387489\n",
       "2021-10-01 04:00:00  52.096485\n",
       "...                        ...\n",
       "2021-12-31 19:00:00  15.319837\n",
       "2021-12-31 20:00:00  12.457646\n",
       "2021-12-31 21:00:00  14.847246\n",
       "2021-12-31 22:00:00  14.771048\n",
       "2021-12-31 23:00:00  16.583181\n",
       "\n",
       "[2208 rows x 1 columns]"
      ]
     },
     "execution_count": 13,
     "metadata": {},
     "output_type": "execute_result"
    }
   ],
   "source": [
    "# Predicciones de backtesting\n",
    "# ==============================================================================\n",
    "predictions"
   ]
  },
  {
   "cell_type": "code",
   "execution_count": null,
   "id": "574ba4e1",
   "metadata": {},
   "outputs": [
    {
     "ename": "NameError",
     "evalue": "name 'data_test' is not defined",
     "output_type": "error",
     "traceback": [
      "\u001b[1;31m---------------------------------------------------------------------------\u001b[0m",
      "\u001b[1;31mNameError\u001b[0m                                 Traceback (most recent call last)",
      "Cell \u001b[1;32mIn[19], line 4\u001b[0m\n\u001b[0;32m      1\u001b[0m \u001b[38;5;66;03m# Gráfico de las predicciones vs valores reales en el conjunto de test\u001b[39;00m\n\u001b[0;32m      2\u001b[0m \u001b[38;5;66;03m# ==============================================================================\u001b[39;00m\n\u001b[0;32m      3\u001b[0m fig \u001b[38;5;241m=\u001b[39m go\u001b[38;5;241m.\u001b[39mFigure()\n\u001b[1;32m----> 4\u001b[0m trace1 \u001b[38;5;241m=\u001b[39m go\u001b[38;5;241m.\u001b[39mScatter(x\u001b[38;5;241m=\u001b[39m\u001b[43mdata_test\u001b[49m\u001b[38;5;241m.\u001b[39mindex, y\u001b[38;5;241m=\u001b[39mdata_test[\u001b[38;5;124m'\u001b[39m\u001b[38;5;124mo3\u001b[39m\u001b[38;5;124m'\u001b[39m], name\u001b[38;5;241m=\u001b[39m\u001b[38;5;124m\"\u001b[39m\u001b[38;5;124mtest\u001b[39m\u001b[38;5;124m\"\u001b[39m, mode\u001b[38;5;241m=\u001b[39m\u001b[38;5;124m\"\u001b[39m\u001b[38;5;124mlines\u001b[39m\u001b[38;5;124m\"\u001b[39m)\n\u001b[0;32m      5\u001b[0m trace2 \u001b[38;5;241m=\u001b[39m go\u001b[38;5;241m.\u001b[39mScatter(x\u001b[38;5;241m=\u001b[39mpredictions\u001b[38;5;241m.\u001b[39mindex, y\u001b[38;5;241m=\u001b[39mpredictions[\u001b[38;5;124m'\u001b[39m\u001b[38;5;124mo3\u001b[39m\u001b[38;5;124m'\u001b[39m], name\u001b[38;5;241m=\u001b[39m\u001b[38;5;124m\"\u001b[39m\u001b[38;5;124mpredicciones\u001b[39m\u001b[38;5;124m\"\u001b[39m, mode\u001b[38;5;241m=\u001b[39m\u001b[38;5;124m\"\u001b[39m\u001b[38;5;124mlines\u001b[39m\u001b[38;5;124m\"\u001b[39m)\n\u001b[0;32m      6\u001b[0m fig\u001b[38;5;241m.\u001b[39madd_trace(trace1)\n",
      "\u001b[1;31mNameError\u001b[0m: name 'data_test' is not defined"
     ]
    }
   ],
   "source": [
    "# Gráfico de las predicciones vs valores reales en el conjunto de test\n",
    "# ==============================================================================\n",
    "fig = go.Figure()\n",
    "trace1 = go.Scatter(x=data_test.index, y=data_test['o3'], name=\"test\", mode=\"lines\")\n",
    "trace2 = go.Scatter(x=predictions.index, y=predictions['o3'], name=\"predicciones\", mode=\"lines\")\n",
    "fig.add_trace(trace1)\n",
    "fig.add_trace(trace2)\n",
    "fig.update_layout(\n",
    "    title=\"Predicciones vs valores reales en el conjunto de test\",\n",
    "    xaxis_title=\"Date time\",\n",
    "    yaxis_title=\"O3\",\n",
    "    width=800,\n",
    "    height=350,\n",
    "    margin=dict(l=20, r=20, t=35, b=20),\n",
    "    legend=dict(\n",
    "        orientation=\"h\",\n",
    "        yanchor=\"top\",\n",
    "        y=1.05,\n",
    "        xanchor=\"left\",\n",
    "        x=0\n",
    "    )\n",
    ")\n",
    "fig.show()"
   ]
  },
  {
   "cell_type": "code",
   "execution_count": null,
   "id": "b8d24afd",
   "metadata": {},
   "outputs": [
    {
     "data": {
      "text/html": [
       "<div>\n",
       "<style scoped>\n",
       "    .dataframe tbody tr th:only-of-type {\n",
       "        vertical-align: middle;\n",
       "    }\n",
       "\n",
       "    .dataframe tbody tr th {\n",
       "        vertical-align: top;\n",
       "    }\n",
       "\n",
       "    .dataframe thead th {\n",
       "        text-align: right;\n",
       "    }\n",
       "</style>\n",
       "<table border=\"1\" class=\"dataframe\">\n",
       "  <thead>\n",
       "    <tr style=\"text-align: right;\">\n",
       "      <th></th>\n",
       "      <th>levels</th>\n",
       "      <th>mean_absolute_error</th>\n",
       "    </tr>\n",
       "  </thead>\n",
       "  <tbody>\n",
       "    <tr>\n",
       "      <th>0</th>\n",
       "      <td>o3</td>\n",
       "      <td>5.732502</td>\n",
       "    </tr>\n",
       "  </tbody>\n",
       "</table>\n",
       "</div>"
      ],
      "text/plain": [
       "  levels  mean_absolute_error\n",
       "0     o3             5.732502"
      ]
     },
     "execution_count": 15,
     "metadata": {},
     "output_type": "execute_result"
    }
   ],
   "source": [
    "# Métricas de backtesting\n",
    "# ==============================================================================\n",
    "metrics"
   ]
  },
  {
   "cell_type": "code",
   "execution_count": null,
   "id": "23d24a32",
   "metadata": {},
   "outputs": [
    {
     "name": "stdout",
     "output_type": "stream",
     "text": [
      "Media de la serie: 54.52\n",
      "Error (mae) relativo: 10.51 %\n"
     ]
    }
   ],
   "source": [
    "# Error en % respecto a la media de la serie\n",
    "# ==============================================================================\n",
    "rel_mse = 100 * metrics.loc[0, 'mean_absolute_error'] / np.mean(data[\"o3\"])\n",
    "print(f\"Media de la serie: {np.mean(data['o3']):0.2f}\")\n",
    "print(f\"Error (mae) relativo: {rel_mse:0.2f} %\")"
   ]
  },
  {
   "cell_type": "code",
   "execution_count": null,
   "id": "6cb9975e",
   "metadata": {},
   "outputs": [
    {
     "name": "stdout",
     "output_type": "stream",
     "text": [
      "WARNING:tensorflow:Layer lstm_1 will not use cuDNN kernels since it doesn't meet the criteria. It will use a generic GPU kernel as fallback when running on GPU.\n"
     ]
    },
    {
     "name": "stderr",
     "output_type": "stream",
     "text": [
      "tensorflow WARNING Layer lstm_1 will not use cuDNN kernels since it doesn't meet the criteria. It will use a generic GPU kernel as fallback when running on GPU.\n"
     ]
    },
    {
     "name": "stdout",
     "output_type": "stream",
     "text": [
      "Model: \"model_1\"\n",
      "_________________________________________________________________\n",
      " Layer (type)                Output Shape              Param #   \n",
      "=================================================================\n",
      " input_2 (InputLayer)        [(None, 32, 1)]           0         \n",
      "                                                                 \n",
      " lstm_1 (LSTM)               (None, 50)                10400     \n",
      "                                                                 \n",
      " dense_2 (Dense)             (None, 32)                1632      \n",
      "                                                                 \n",
      " dense_3 (Dense)             (None, 5)                 165       \n",
      "                                                                 \n",
      " reshape_1 (Reshape)         (None, 5, 1)              0         \n",
      "                                                                 \n",
      "=================================================================\n",
      "Total params: 12197 (47.64 KB)\n",
      "Trainable params: 12197 (47.64 KB)\n",
      "Non-trainable params: 0 (0.00 Byte)\n",
      "_________________________________________________________________\n"
     ]
    }
   ],
   "source": [
    "# Creación del modelo\n",
    "# ==============================================================================\n",
    "series = [\"o3\"] # Series temporales que se utilizarán para entrenar el modelo. \n",
    "levels = [\"o3\"] # Serie que se quiere predecir\n",
    "lags = 32 # Valores pasados a utilizar en la predicción\n",
    "steps = 5 # Pasos a futuro a predecir\n",
    "\n",
    "model = create_and_compile_model(\n",
    "    series=data_train,\n",
    "    levels=levels, \n",
    "    lags=lags,\n",
    "    steps=steps,\n",
    "    recurrent_layer=\"LSTM\",\n",
    "    recurrent_units=50,\n",
    "    dense_units=32,\n",
    "    optimizer=Adam(learning_rate=0.01), \n",
    "    loss=MeanSquaredError()\n",
    ")\n",
    "model.summary()"
   ]
  },
  {
   "cell_type": "code",
   "execution_count": null,
   "id": "e7e51c5d",
   "metadata": {},
   "outputs": [],
   "source": [
    "# Creación del Forecaster\n",
    "# ==============================================================================\n",
    "forecaster = ForecasterRnn(\n",
    "    regressor=model,\n",
    "    levels=levels,\n",
    "    steps=steps,\n",
    "    lags=lags,\n",
    "    transformer_series=MinMaxScaler(),\n",
    "    fit_kwargs={\n",
    "        \"epochs\": 10,  # Número de épocas para entrenar el modelo.\n",
    "        \"batch_size\": 32,  # Tamaño del batch para entrenar el modelo.\n",
    "        \"callbacks\": [\n",
    "            EarlyStopping(monitor=\"val_loss\", patience=5)\n",
    "        ],  # Callback para detener el entrenamiento cuando ya no esté aprendiendo más.\n",
    "        \"series_val\": data_val,  # Datos de validación para el entrenamiento del modelo.\n",
    "    },\n",
    ")"
   ]
  },
  {
   "cell_type": "code",
   "execution_count": null,
   "id": "53dfa59e",
   "metadata": {
    "scrolled": true
   },
   "outputs": [
    {
     "name": "stdout",
     "output_type": "stream",
     "text": [
      "Epoch 1/10\n",
      "615/615 [==============================] - 75s 119ms/step - loss: 0.0212 - val_loss: 0.0135\n",
      "Epoch 2/10\n",
      "615/615 [==============================] - 75s 121ms/step - loss: 0.0136 - val_loss: 0.0121\n",
      "Epoch 3/10\n",
      "615/615 [==============================] - 92s 150ms/step - loss: 0.0129 - val_loss: 0.0117\n",
      "Epoch 4/10\n",
      "615/615 [==============================] - 79s 128ms/step - loss: 0.0123 - val_loss: 0.0123\n",
      "Epoch 5/10\n",
      "615/615 [==============================] - 85s 138ms/step - loss: 0.0122 - val_loss: 0.0124\n",
      "Epoch 6/10\n",
      "615/615 [==============================] - 82s 133ms/step - loss: 0.0121 - val_loss: 0.0121\n",
      "Epoch 7/10\n",
      "615/615 [==============================] - 72s 117ms/step - loss: 0.0121 - val_loss: 0.0122\n",
      "Epoch 8/10\n",
      "615/615 [==============================] - 71s 115ms/step - loss: 0.0117 - val_loss: 0.0123\n"
     ]
    }
   ],
   "source": [
    "# Entrenamiento del forecaster\n",
    "# ==============================================================================\n",
    "forecaster.fit(data_train)"
   ]
  },
  {
   "cell_type": "code",
   "execution_count": null,
   "id": "4441b7c8",
   "metadata": {},
   "outputs": [
    {
     "data": {
      "image/png": "[encoded data removed]",
      "text/plain": [
       "<Figure size 500x250 with 1 Axes>"
      ]
     },
     "metadata": {},
     "output_type": "display_data"
    }
   ],
   "source": [
    "# Seguimiento del entrenamiento y overfitting\n",
    "# ==============================================================================\n",
    "fig, ax = plt.subplots(figsize=(5, 2.5))\n",
    "forecaster.plot_history(ax=ax)"
   ]
  },
  {
   "cell_type": "code",
   "execution_count": null,
   "id": "2e4671c1",
   "metadata": {},
   "outputs": [],
   "source": []
  },
  {
   "cell_type": "code",
   "execution_count": null,
   "id": "5d7028e7",
   "metadata": {},
   "outputs": [],
   "source": []
  },
  {
   "cell_type": "code",
   "execution_count": null,
   "id": "38309553",
   "metadata": {},
   "outputs": [],
   "source": []
  },
  {
   "cell_type": "code",
   "execution_count": null,
   "id": "e7b236cd",
   "metadata": {},
   "outputs": [],
   "source": []
  }
 ],
 "metadata": {
  "kernelspec": {
   "display_name": "Python 3 (ipykernel)",
   "language": "python",
   "name": "python3"
  },
  "language_info": {
   "codemirror_mode": {
    "name": "ipython",
    "version": 3
   },
   "file_extension": ".py",
   "mimetype": "text/x-python",
   "name": "python",
   "nbconvert_exporter": "python",
   "pygments_lexer": "ipython3",
   "version": "3.10.0"
  }
 },
 "nbformat": 4,
 "nbformat_minor": 5
}
