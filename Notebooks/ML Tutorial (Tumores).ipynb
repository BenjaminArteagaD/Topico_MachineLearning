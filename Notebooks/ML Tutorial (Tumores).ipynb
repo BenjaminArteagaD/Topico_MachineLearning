{
 "cells": [
  {
   "cell_type": "code",
   "execution_count": 1,
   "id": "e2cc0186-186f-4c25-b418-a85eeb7dc3ed",
   "metadata": {},
   "outputs": [],
   "source": [
    "import sklearn\n",
    "\n",
    "from sklearn.datasets import load_breast_cancer #para importar la data\n",
    "from sklearn.model_selection import train_test_split #se dividen los datos en set de entrenamiento y set de pruebas \n",
    "from sklearn.naive_bayes import GaussianNB # Se construye el modelo clasificador y se ajusta a los datos\n",
    "from sklearn.metrics import accuracy_score #para ver la precisión del modelo\n",
    "\n",
    "\n"
   ]
  },
  {
   "cell_type": "code",
   "execution_count": 2,
   "id": "fc9a3250-adec-4a6f-a116-fdecf737aa2a",
   "metadata": {},
   "outputs": [],
   "source": [
    "\n",
    "#se carga la data\n",
    "data  = load_breast_cancer() #trabaja como un diccionario"
   ]
  },
  {
   "cell_type": "code",
   "execution_count": 3,
   "id": "62dd917f-062b-4883-aaaa-7a082a13b116",
   "metadata": {},
   "outputs": [],
   "source": [
    "#se crean nuevas variables para cada set de informacion\n",
    "#y se asigna a la data (organización)\n",
    "\n",
    "label_names = data['target_names']\n",
    "labels = data['target']\n",
    "feature_names = data['feature_names']\n",
    "features = data['data']\n"
   ]
  },
  {
   "cell_type": "code",
   "execution_count": 24,
   "id": "81b8752f-f5b4-4189-a991-6c2ab72e0004",
   "metadata": {},
   "outputs": [
    {
     "name": "stdout",
     "output_type": "stream",
     "text": [
      "['malignant' 'benign']\n",
      "0\n",
      "mean radius\n",
      "[1.799e+01 1.038e+01 1.228e+02 1.001e+03 1.184e-01 2.776e-01 3.001e-01\n",
      " 1.471e-01 2.419e-01 7.871e-02 1.095e+00 9.053e-01 8.589e+00 1.534e+02\n",
      " 6.399e-03 4.904e-02 5.373e-02 1.587e-02 3.003e-02 6.193e-03 2.538e+01\n",
      " 1.733e+01 1.846e+02 2.019e+03 1.622e-01 6.656e-01 7.119e-01 2.654e-01\n",
      " 4.601e-01 1.189e-01]\n"
     ]
    }
   ],
   "source": [
    "#vista previa de la data\n",
    "print(label_names)\n",
    "print(labels[0])\n",
    "print(feature_names[0])\n",
    "print(features[0])"
   ]
  },
  {
   "cell_type": "code",
   "execution_count": 4,
   "id": "753af094-6062-4122-8880-7d9069963508",
   "metadata": {},
   "outputs": [],
   "source": [
    "#test set & training set\n",
    "train, test, train_labels, test_labels = train_test_split(features,labels,test_size=0.33,random_state=42)\n"
   ]
  },
  {
   "cell_type": "code",
   "execution_count": 27,
   "id": "9711a0d4-82bb-4a4e-b2c6-084ac0298614",
   "metadata": {},
   "outputs": [],
   "source": [
    "#Se inicializa el modelo clasificador\n",
    "gnb = GaussianNB()\n",
    "\n",
    "#Se entrena el modelo clasificador\n",
    "model = gnb.fit(train, train_labels)\n"
   ]
  },
  {
   "cell_type": "code",
   "execution_count": 28,
   "id": "061a7619-8753-432d-b317-9ec012882dff",
   "metadata": {},
   "outputs": [
    {
     "name": "stdout",
     "output_type": "stream",
     "text": [
      "[1 0 0 1 1 0 0 0 1 1 1 0 1 0 1 0 1 1 1 0 1 1 0 1 1 1 1 1 1 0 1 1 1 1 1 1 0\n",
      " 1 0 1 1 0 1 1 1 1 1 1 1 1 0 0 1 1 1 1 1 0 0 1 1 0 0 1 1 1 0 0 1 1 0 0 1 0\n",
      " 1 1 1 1 1 1 0 1 1 0 0 0 0 0 1 1 1 1 1 1 1 1 0 0 1 0 0 1 0 0 1 1 1 0 1 1 0\n",
      " 1 1 0 0 0 1 1 1 0 0 1 1 0 1 0 0 1 1 0 0 0 1 1 1 0 1 1 0 0 1 0 1 1 0 1 0 0\n",
      " 1 1 1 1 1 1 1 0 0 1 1 1 1 1 1 1 1 1 1 1 1 0 0 1 1 0 1 1 0 1 1 1 1 1 1 0 0\n",
      " 0 1 1]\n"
     ]
    }
   ],
   "source": [
    "#Hacer predicciones\n",
    "preds = gnb.predict(test)\n",
    "print(preds)\n",
    "#0 maligno y 1 benigno"
   ]
  },
  {
   "cell_type": "code",
   "execution_count": 29,
   "id": "9ba2ebf5-5c07-4048-9336-2d96ebde935f",
   "metadata": {},
   "outputs": [
    {
     "name": "stdout",
     "output_type": "stream",
     "text": [
      "0.9414893617021277\n"
     ]
    }
   ],
   "source": [
    "\n",
    "#Evaluando la precision del modelo\n",
    "print(accuracy_score(test_labels,preds))"
   ]
  },
  {
   "cell_type": "raw",
   "id": "41981470-1146-46fa-98c3-abdf22cb762a",
   "metadata": {},
   "source": [
    "Hasta aquí el tutorial del libro, ahora quiero probar otros algoritmos:"
   ]
  },
  {
   "cell_type": "code",
   "execution_count": 33,
   "id": "a6011e84-4b35-4091-8f54-9c99af7c0897",
   "metadata": {},
   "outputs": [
    {
     "name": "stdout",
     "output_type": "stream",
     "text": [
      "0.9787234042553191\n"
     ]
    }
   ],
   "source": [
    "from sklearn.preprocessing import StandardScaler\n",
    "sc = StandardScaler()\n",
    "train2 = sc.fit_transform(train)\n",
    "test2 = sc.transform(test)\n",
    "\n",
    "\n",
    "\n",
    "from sklearn.linear_model import LogisticRegression\n",
    "lr = LogisticRegression(random_state = 0)\n",
    "\n",
    "\n",
    "model2 = lr.fit(train2, train_labels)\n",
    "preds2 = lr.predict(test2)\n",
    "print(accuracy_score(test_labels,preds2))"
   ]
  },
  {
   "cell_type": "raw",
   "id": "c0d0c0ce-cc2c-457e-8deb-2ec88f90da44",
   "metadata": {},
   "source": [
    "otra forma de evaluar la precisión es la confusion matrix:"
   ]
  },
  {
   "cell_type": "code",
   "execution_count": 34,
   "id": "db30f2ca-100f-4d55-baa1-d10334ad5f0c",
   "metadata": {},
   "outputs": [
    {
     "name": "stdout",
     "output_type": "stream",
     "text": [
      "[[ 66   1]\n",
      " [  3 118]]\n"
     ]
    }
   ],
   "source": [
    "from sklearn.metrics import confusion_matrix\n",
    "cm_lr = confusion_matrix(test_labels, preds2)\n",
    "print(cm_lr)"
   ]
  },
  {
   "cell_type": "markdown",
   "id": "fd477ded-56dd-4531-9df4-69518e8d4bb2",
   "metadata": {},
   "source": [
    "Ahora, con el metodo de k nearest neighbours (K-NN)"
   ]
  },
  {
   "cell_type": "code",
   "execution_count": 5,
   "id": "7a801cd1-a358-4994-b306-4564631385f6",
   "metadata": {},
   "outputs": [
    {
     "name": "stdout",
     "output_type": "stream",
     "text": [
      "0.9521276595744681\n"
     ]
    }
   ],
   "source": [
    "from sklearn.neighbors import KNeighborsClassifier\n",
    "knn = KNeighborsClassifier(n_neighbors = 5, \\\n",
    "                           metric = 'minkowski', p = 2)\n",
    "model3 = knn.fit(train, train_labels)\n",
    "preds3 = knn.predict(test)\n",
    "print(accuracy_score(test_labels,preds3))"
   ]
  },
  {
   "cell_type": "raw",
   "id": "7d7fb321-90ce-4641-8519-d7e4e3319231",
   "metadata": {},
   "source": [
    "Ahora, con el método SVC (SUPPORT VECTOR CLASSIFIER)"
   ]
  },
  {
   "cell_type": "code",
   "execution_count": 6,
   "id": "bc351988-c53f-49f4-9684-05fd40939b68",
   "metadata": {},
   "outputs": [
    {
     "name": "stdout",
     "output_type": "stream",
     "text": [
      "0.9574468085106383\n"
     ]
    }
   ],
   "source": [
    "from sklearn.svm import SVC\n",
    "svc = SVC(kernel = 'linear', random_state = 0)\n",
    "model4 = svc.fit(train, train_labels)\n",
    "preds4 = svc.predict(test)\n",
    "print(accuracy_score(test_labels,preds4))"
   ]
  },
  {
   "cell_type": "raw",
   "id": "0ce01848-be37-47c2-b06c-427d341d500c",
   "metadata": {},
   "source": [
    "Ahora usando SVM (support vector machine)"
   ]
  },
  {
   "cell_type": "code",
   "execution_count": 7,
   "id": "9e31a5de-b607-468a-bf23-01b2fc775bf1",
   "metadata": {},
   "outputs": [
    {
     "name": "stdout",
     "output_type": "stream",
     "text": [
      "0.9521276595744681\n"
     ]
    }
   ],
   "source": [
    "from sklearn.svm import SVC\n",
    "svc_rbf = SVC(kernel = 'rbf', random_state = 0)\n",
    "model5 = svc_rbf.fit(train, train_labels)\n",
    "preds5 = svc_rbf.predict(test)\n",
    "print(accuracy_score(test_labels,preds5))"
   ]
  },
  {
   "cell_type": "raw",
   "id": "d348cac2-f45f-4e58-b983-8670b56df471",
   "metadata": {},
   "source": [
    "Decision Trees:"
   ]
  },
  {
   "cell_type": "code",
   "execution_count": 8,
   "id": "94af0468-da9f-41d1-b9af-8cb096427b04",
   "metadata": {},
   "outputs": [
    {
     "name": "stdout",
     "output_type": "stream",
     "text": [
      "0.9574468085106383\n"
     ]
    }
   ],
   "source": [
    "from sklearn.tree import DecisionTreeClassifier\n",
    "dt = DecisionTreeClassifier(criterion = 'entropy', random_state = 0)\n",
    "model6 = dt.fit(train, train_labels)\n",
    "preds6 = dt.predict(test)\n",
    "print(accuracy_score(test_labels,preds6))"
   ]
  },
  {
   "cell_type": "markdown",
   "id": "02c3b501-2fd1-4e1a-a217-a0e08cda3d1b",
   "metadata": {},
   "source": [
    "Random Forest"
   ]
  },
  {
   "cell_type": "code",
   "execution_count": 10,
   "id": "47c4a3fe-27b4-449e-a092-9b80df86fe06",
   "metadata": {},
   "outputs": [
    {
     "name": "stdout",
     "output_type": "stream",
     "text": [
      "0.9521276595744681\n"
     ]
    }
   ],
   "source": [
    "from sklearn.ensemble import RandomForestClassifier\n",
    "rf = RandomForestClassifier(max_depth=2, random_state=0)\n",
    "models7 = rf.fit(train, train_labels)\n",
    "preds7 = rf.predict(test)\n",
    "print(accuracy_score(test_labels,preds7))"
   ]
  },
  {
   "cell_type": "code",
   "execution_count": null,
   "id": "8e3f0676-a28a-49ca-ad72-207627d3eb38",
   "metadata": {},
   "outputs": [],
   "source": []
  }
 ],
 "metadata": {
  "kernelspec": {
   "display_name": "Python 3 (ipykernel)",
   "language": "python",
   "name": "python3"
  },
  "language_info": {
   "codemirror_mode": {
    "name": "ipython",
    "version": 3
   },
   "file_extension": ".py",
   "mimetype": "text/x-python",
   "name": "python",
   "nbconvert_exporter": "python",
   "pygments_lexer": "ipython3",
   "version": "3.10.12"
  }
 },
 "nbformat": 4,
 "nbformat_minor": 5
}
